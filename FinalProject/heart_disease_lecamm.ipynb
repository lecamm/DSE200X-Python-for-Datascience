{
 "cells": [
  {
   "cell_type": "markdown",
   "metadata": {
    "colab_type": "text",
    "id": "rPQqSNMWj223"
   },
   "source": [
    "# Heart Disease\n",
    "## Context\n",
    "This database contains 76 attributes, but all published experiments refer to using a subset of 14 of them. In particular, the Cleveland database is the only one that has been used by ML researchers to this date. The \"goal\" field refers to the presence of heart disease in the patient. It is represented by a binary value: 0 (no disease) and 1 (presence of disease)."
   ]
  },
  {
   "cell_type": "markdown",
   "metadata": {
    "colab_type": "text",
    "id": "4qOVTkmIiGyy"
   },
   "source": [
    "## Content\n",
    "\n",
    "Attribute Information:\n",
    "1. **age**\n",
    "2. **sex**\n",
    "3. **cp**: chest pain type (4 values)\n",
    "4. **trestbps**:resting blood pressure\n",
    "5. **chol**:serum cholesterol in mg/dl\n",
    "6. **fbs**:fasting blood sugar > 120 mg/dl\n",
    "7. **restecg**:resting electrocardiographic results (values 0,1,2)\n",
    "8. **thalach**:maximum heart rate achieved\n",
    "9. **exang**:exercise induced angina\n",
    "10. **oldpeak** = ST depression induced by exercise relative to rest\n",
    "11. **slope**:the slope of the peak exercise ST segment\n",
    "12. **ca**:number of major vessels (0-3) colored by fluorosopy\n",
    "13. **thal**: 1 = normal; 2 = fixed defect; 3 = reversable defect\n",
    "\n",
    "The names and social security numbers of the patients were recently removed from the database, replaced with dummy values.\n",
    "\n"
   ]
  },
  {
   "cell_type": "markdown",
   "metadata": {
    "colab_type": "text",
    "id": "se5W0poqiKER"
   },
   "source": [
    "## Acknowledgements\n",
    "Creators:\n",
    "1. Hungarian Institute of Cardiology. Budapest: Andras Janosi, M.D.\n",
    "2. University Hospital, Zurich, Switzerland: William Steinbrunn, M.D.\n",
    "3. University Hospital, Basel, Switzerland: Matthias Pfisterer, M.D.\n",
    "4. V.A. Medical Center, Long Beach and Cleveland Clinic Foundation: Robert Detrano, M.D., Ph.D.\n",
    "\n",
    "Donor: David W. Aha (aha '@' ics.uci.edu) (714) 856-8779"
   ]
  },
  {
   "cell_type": "markdown",
   "metadata": {
    "colab_type": "text",
    "id": "l2TsJfHNjx7k"
   },
   "source": [
    "# Get the data\n",
    "#### Create kaggle folder and import json\n"
   ]
  },
  {
   "cell_type": "code",
   "execution_count": 0,
   "metadata": {
    "colab": {
     "base_uri": "https://localhost:8080/"
    },
    "colab_type": "code",
    "executionInfo": {
     "elapsed": 4728,
     "status": "ok",
     "timestamp": 1576761726635,
     "user": {
      "displayName": "Mathieu Le Cam",
      "photoUrl": "https://lh3.googleusercontent.com/a-/AAuE7mDXnl10g9SEzzH0q92SA0b-_g35Q8gkVbq1d2ooErM=s64",
      "userId": "01912130085238494725"
     },
     "user_tz": 0
    },
    "id": "QymsF1YtLrN2",
    "outputId": "e31b7e4c-4fc5-464f-829d-4ccd11461ef1"
   },
   "outputs": [
    {
     "name": "stdout",
     "output_type": "stream",
     "text": [
      "kaggle.json\n"
     ]
    }
   ],
   "source": [
    "!mkdir -p ~/.kaggle\n",
    "!echo '{\"username\":\"user\",\"key\":\"key\"}' > /root/.kaggle/kaggle.json\n",
    "!chmod 600 ~/.kaggle/kaggle.json\n",
    "!ls ~/.kaggle"
   ]
  },
  {
   "cell_type": "markdown",
   "metadata": {
    "colab_type": "text",
    "id": "eOVfuL32LyV4"
   },
   "source": [
    "#### Download kaggle dataset\n"
   ]
  },
  {
   "cell_type": "code",
   "execution_count": 0,
   "metadata": {
    "colab": {
     "base_uri": "https://localhost:8080/"
    },
    "colab_type": "code",
    "executionInfo": {
     "elapsed": 6270,
     "status": "ok",
     "timestamp": 1576761728194,
     "user": {
      "displayName": "Mathieu Le Cam",
      "photoUrl": "https://lh3.googleusercontent.com/a-/AAuE7mDXnl10g9SEzzH0q92SA0b-_g35Q8gkVbq1d2ooErM=s64",
      "userId": "01912130085238494725"
     },
     "user_tz": 0
    },
    "id": "Rgy1Ln9ML05c",
    "outputId": "c0110f78-1047-4d74-cdc7-8ef182467be5"
   },
   "outputs": [
    {
     "name": "stdout",
     "output_type": "stream",
     "text": [
      "Downloading heart-disease-uci.zip to /content\n",
      "\r",
      "  0% 0.00/3.40k [00:00<?, ?B/s]\n",
      "\r",
      "100% 3.40k/3.40k [00:00<00:00, 2.93MB/s]\n"
     ]
    }
   ],
   "source": [
    "!kaggle datasets download ronitf/heart-disease-uci"
   ]
  },
  {
   "cell_type": "markdown",
   "metadata": {
    "colab_type": "text",
    "id": "VB7D5sVqL6fM"
   },
   "source": [
    "#### Move to directory and unzip files\n"
   ]
  },
  {
   "cell_type": "code",
   "execution_count": 0,
   "metadata": {
    "colab": {
     "base_uri": "https://localhost:8080/"
    },
    "colab_type": "code",
    "executionInfo": {
     "elapsed": 7859,
     "status": "ok",
     "timestamp": 1576761729791,
     "user": {
      "displayName": "Mathieu Le Cam",
      "photoUrl": "https://lh3.googleusercontent.com/a-/AAuE7mDXnl10g9SEzzH0q92SA0b-_g35Q8gkVbq1d2ooErM=s64",
      "userId": "01912130085238494725"
     },
     "user_tz": 0
    },
    "id": "tQDFcecaMQgF",
    "outputId": "3ad9655e-4ec0-4d73-9426-9ee6364be7a1"
   },
   "outputs": [
    {
     "name": "stdout",
     "output_type": "stream",
     "text": [
      "Archive:  heart-disease-uci.zip\n",
      "  inflating: heart.csv               \n"
     ]
    }
   ],
   "source": [
    "!unzip heart-disease-uci.zip"
   ]
  },
  {
   "cell_type": "code",
   "execution_count": 0,
   "metadata": {
    "colab": {},
    "colab_type": "code",
    "id": "z0jL8uT4zIqq"
   },
   "outputs": [],
   "source": [
    "!rm *.zip"
   ]
  },
  {
   "cell_type": "markdown",
   "metadata": {
    "colab_type": "text",
    "id": "TfOUy-CpqPRt"
   },
   "source": [
    "# Load libraries"
   ]
  },
  {
   "cell_type": "code",
   "execution_count": 0,
   "metadata": {
    "colab": {},
    "colab_type": "code",
    "id": "TjndZSo6j226"
   },
   "outputs": [],
   "source": [
    "import matplotlib.pyplot as plt\n",
    "import matplotlib\n",
    "matplotlib.rcParams.update({'font.size': 12})\n",
    "import pandas as pd\n",
    "import numpy as np"
   ]
  },
  {
   "cell_type": "markdown",
   "metadata": {
    "colab_type": "text",
    "id": "r5dhN2dIqrSf"
   },
   "source": [
    "# Preliminary exploratory data analysis\n",
    "\n",
    "load into pandas dataframe and have a quick look at the data"
   ]
  },
  {
   "cell_type": "code",
   "execution_count": 0,
   "metadata": {
    "colab": {
     "base_uri": "https://localhost:8080/",
     "height": 314
    },
    "colab_type": "code",
    "executionInfo": {
     "elapsed": 437,
     "status": "ok",
     "timestamp": 1576761815134,
     "user": {
      "displayName": "Mathieu Le Cam",
      "photoUrl": "https://lh3.googleusercontent.com/a-/AAuE7mDXnl10g9SEzzH0q92SA0b-_g35Q8gkVbq1d2ooErM=s64",
      "userId": "01912130085238494725"
     },
     "user_tz": 0
    },
    "id": "6Z933-qJj22-",
    "outputId": "346b0121-be73-4c50-fb9e-7e67bd922381"
   },
   "outputs": [
    {
     "data": {
      "text/html": [
       "<div>\n",
       "<style scoped>\n",
       "    .dataframe tbody tr th:only-of-type {\n",
       "        vertical-align: middle;\n",
       "    }\n",
       "\n",
       "    .dataframe tbody tr th {\n",
       "        vertical-align: top;\n",
       "    }\n",
       "\n",
       "    .dataframe thead th {\n",
       "        text-align: right;\n",
       "    }\n",
       "</style>\n",
       "<table border=\"1\" class=\"dataframe\">\n",
       "  <thead>\n",
       "    <tr style=\"text-align: right;\">\n",
       "      <th></th>\n",
       "      <th>age</th>\n",
       "      <th>sex</th>\n",
       "      <th>cp</th>\n",
       "      <th>trestbps</th>\n",
       "      <th>chol</th>\n",
       "      <th>fbs</th>\n",
       "      <th>restecg</th>\n",
       "      <th>thalach</th>\n",
       "      <th>exang</th>\n",
       "      <th>oldpeak</th>\n",
       "      <th>slope</th>\n",
       "      <th>ca</th>\n",
       "      <th>thal</th>\n",
       "      <th>target</th>\n",
       "    </tr>\n",
       "  </thead>\n",
       "  <tbody>\n",
       "    <tr>\n",
       "      <th>count</th>\n",
       "      <td>303.000000</td>\n",
       "      <td>303.000000</td>\n",
       "      <td>303.000000</td>\n",
       "      <td>303.000000</td>\n",
       "      <td>303.000000</td>\n",
       "      <td>303.000000</td>\n",
       "      <td>303.000000</td>\n",
       "      <td>303.000000</td>\n",
       "      <td>303.000000</td>\n",
       "      <td>303.000000</td>\n",
       "      <td>303.000000</td>\n",
       "      <td>303.000000</td>\n",
       "      <td>303.000000</td>\n",
       "      <td>303.000000</td>\n",
       "    </tr>\n",
       "    <tr>\n",
       "      <th>mean</th>\n",
       "      <td>54.366337</td>\n",
       "      <td>0.683168</td>\n",
       "      <td>0.966997</td>\n",
       "      <td>131.623762</td>\n",
       "      <td>246.264026</td>\n",
       "      <td>0.148515</td>\n",
       "      <td>0.528053</td>\n",
       "      <td>149.646865</td>\n",
       "      <td>0.326733</td>\n",
       "      <td>1.039604</td>\n",
       "      <td>1.399340</td>\n",
       "      <td>0.729373</td>\n",
       "      <td>2.313531</td>\n",
       "      <td>0.544554</td>\n",
       "    </tr>\n",
       "    <tr>\n",
       "      <th>std</th>\n",
       "      <td>9.082101</td>\n",
       "      <td>0.466011</td>\n",
       "      <td>1.032052</td>\n",
       "      <td>17.538143</td>\n",
       "      <td>51.830751</td>\n",
       "      <td>0.356198</td>\n",
       "      <td>0.525860</td>\n",
       "      <td>22.905161</td>\n",
       "      <td>0.469794</td>\n",
       "      <td>1.161075</td>\n",
       "      <td>0.616226</td>\n",
       "      <td>1.022606</td>\n",
       "      <td>0.612277</td>\n",
       "      <td>0.498835</td>\n",
       "    </tr>\n",
       "    <tr>\n",
       "      <th>min</th>\n",
       "      <td>29.000000</td>\n",
       "      <td>0.000000</td>\n",
       "      <td>0.000000</td>\n",
       "      <td>94.000000</td>\n",
       "      <td>126.000000</td>\n",
       "      <td>0.000000</td>\n",
       "      <td>0.000000</td>\n",
       "      <td>71.000000</td>\n",
       "      <td>0.000000</td>\n",
       "      <td>0.000000</td>\n",
       "      <td>0.000000</td>\n",
       "      <td>0.000000</td>\n",
       "      <td>0.000000</td>\n",
       "      <td>0.000000</td>\n",
       "    </tr>\n",
       "    <tr>\n",
       "      <th>25%</th>\n",
       "      <td>47.500000</td>\n",
       "      <td>0.000000</td>\n",
       "      <td>0.000000</td>\n",
       "      <td>120.000000</td>\n",
       "      <td>211.000000</td>\n",
       "      <td>0.000000</td>\n",
       "      <td>0.000000</td>\n",
       "      <td>133.500000</td>\n",
       "      <td>0.000000</td>\n",
       "      <td>0.000000</td>\n",
       "      <td>1.000000</td>\n",
       "      <td>0.000000</td>\n",
       "      <td>2.000000</td>\n",
       "      <td>0.000000</td>\n",
       "    </tr>\n",
       "    <tr>\n",
       "      <th>50%</th>\n",
       "      <td>55.000000</td>\n",
       "      <td>1.000000</td>\n",
       "      <td>1.000000</td>\n",
       "      <td>130.000000</td>\n",
       "      <td>240.000000</td>\n",
       "      <td>0.000000</td>\n",
       "      <td>1.000000</td>\n",
       "      <td>153.000000</td>\n",
       "      <td>0.000000</td>\n",
       "      <td>0.800000</td>\n",
       "      <td>1.000000</td>\n",
       "      <td>0.000000</td>\n",
       "      <td>2.000000</td>\n",
       "      <td>1.000000</td>\n",
       "    </tr>\n",
       "    <tr>\n",
       "      <th>75%</th>\n",
       "      <td>61.000000</td>\n",
       "      <td>1.000000</td>\n",
       "      <td>2.000000</td>\n",
       "      <td>140.000000</td>\n",
       "      <td>274.500000</td>\n",
       "      <td>0.000000</td>\n",
       "      <td>1.000000</td>\n",
       "      <td>166.000000</td>\n",
       "      <td>1.000000</td>\n",
       "      <td>1.600000</td>\n",
       "      <td>2.000000</td>\n",
       "      <td>1.000000</td>\n",
       "      <td>3.000000</td>\n",
       "      <td>1.000000</td>\n",
       "    </tr>\n",
       "    <tr>\n",
       "      <th>max</th>\n",
       "      <td>77.000000</td>\n",
       "      <td>1.000000</td>\n",
       "      <td>3.000000</td>\n",
       "      <td>200.000000</td>\n",
       "      <td>564.000000</td>\n",
       "      <td>1.000000</td>\n",
       "      <td>2.000000</td>\n",
       "      <td>202.000000</td>\n",
       "      <td>1.000000</td>\n",
       "      <td>6.200000</td>\n",
       "      <td>2.000000</td>\n",
       "      <td>4.000000</td>\n",
       "      <td>3.000000</td>\n",
       "      <td>1.000000</td>\n",
       "    </tr>\n",
       "  </tbody>\n",
       "</table>\n",
       "</div>"
      ],
      "text/plain": [
       "              age         sex          cp  ...          ca        thal      target\n",
       "count  303.000000  303.000000  303.000000  ...  303.000000  303.000000  303.000000\n",
       "mean    54.366337    0.683168    0.966997  ...    0.729373    2.313531    0.544554\n",
       "std      9.082101    0.466011    1.032052  ...    1.022606    0.612277    0.498835\n",
       "min     29.000000    0.000000    0.000000  ...    0.000000    0.000000    0.000000\n",
       "25%     47.500000    0.000000    0.000000  ...    0.000000    2.000000    0.000000\n",
       "50%     55.000000    1.000000    1.000000  ...    0.000000    2.000000    1.000000\n",
       "75%     61.000000    1.000000    2.000000  ...    1.000000    3.000000    1.000000\n",
       "max     77.000000    1.000000    3.000000  ...    4.000000    3.000000    1.000000\n",
       "\n",
       "[8 rows x 14 columns]"
      ]
     },
     "execution_count": 24,
     "metadata": {
      "tags": []
     },
     "output_type": "execute_result"
    }
   ],
   "source": [
    "df = pd.read_csv('heart.csv')\n",
    "df.describe()"
   ]
  },
  {
   "cell_type": "code",
   "execution_count": 0,
   "metadata": {
    "colab": {
     "base_uri": "https://localhost:8080/",
     "height": 202
    },
    "colab_type": "code",
    "executionInfo": {
     "elapsed": 726,
     "status": "ok",
     "timestamp": 1576761817936,
     "user": {
      "displayName": "Mathieu Le Cam",
      "photoUrl": "https://lh3.googleusercontent.com/a-/AAuE7mDXnl10g9SEzzH0q92SA0b-_g35Q8gkVbq1d2ooErM=s64",
      "userId": "01912130085238494725"
     },
     "user_tz": 0
    },
    "id": "MExaHzmJj23D",
    "outputId": "e6bd5295-9ce6-4d4f-abcb-7d99feb4a006"
   },
   "outputs": [
    {
     "data": {
      "text/html": [
       "<div>\n",
       "<style scoped>\n",
       "    .dataframe tbody tr th:only-of-type {\n",
       "        vertical-align: middle;\n",
       "    }\n",
       "\n",
       "    .dataframe tbody tr th {\n",
       "        vertical-align: top;\n",
       "    }\n",
       "\n",
       "    .dataframe thead th {\n",
       "        text-align: right;\n",
       "    }\n",
       "</style>\n",
       "<table border=\"1\" class=\"dataframe\">\n",
       "  <thead>\n",
       "    <tr style=\"text-align: right;\">\n",
       "      <th></th>\n",
       "      <th>age</th>\n",
       "      <th>sex</th>\n",
       "      <th>cp</th>\n",
       "      <th>trestbps</th>\n",
       "      <th>chol</th>\n",
       "      <th>fbs</th>\n",
       "      <th>restecg</th>\n",
       "      <th>thalach</th>\n",
       "      <th>exang</th>\n",
       "      <th>oldpeak</th>\n",
       "      <th>slope</th>\n",
       "      <th>ca</th>\n",
       "      <th>thal</th>\n",
       "      <th>target</th>\n",
       "    </tr>\n",
       "  </thead>\n",
       "  <tbody>\n",
       "    <tr>\n",
       "      <th>0</th>\n",
       "      <td>63</td>\n",
       "      <td>1</td>\n",
       "      <td>3</td>\n",
       "      <td>145</td>\n",
       "      <td>233</td>\n",
       "      <td>1</td>\n",
       "      <td>0</td>\n",
       "      <td>150</td>\n",
       "      <td>0</td>\n",
       "      <td>2.3</td>\n",
       "      <td>0</td>\n",
       "      <td>0</td>\n",
       "      <td>1</td>\n",
       "      <td>1</td>\n",
       "    </tr>\n",
       "    <tr>\n",
       "      <th>1</th>\n",
       "      <td>37</td>\n",
       "      <td>1</td>\n",
       "      <td>2</td>\n",
       "      <td>130</td>\n",
       "      <td>250</td>\n",
       "      <td>0</td>\n",
       "      <td>1</td>\n",
       "      <td>187</td>\n",
       "      <td>0</td>\n",
       "      <td>3.5</td>\n",
       "      <td>0</td>\n",
       "      <td>0</td>\n",
       "      <td>2</td>\n",
       "      <td>1</td>\n",
       "    </tr>\n",
       "    <tr>\n",
       "      <th>2</th>\n",
       "      <td>41</td>\n",
       "      <td>0</td>\n",
       "      <td>1</td>\n",
       "      <td>130</td>\n",
       "      <td>204</td>\n",
       "      <td>0</td>\n",
       "      <td>0</td>\n",
       "      <td>172</td>\n",
       "      <td>0</td>\n",
       "      <td>1.4</td>\n",
       "      <td>2</td>\n",
       "      <td>0</td>\n",
       "      <td>2</td>\n",
       "      <td>1</td>\n",
       "    </tr>\n",
       "    <tr>\n",
       "      <th>3</th>\n",
       "      <td>56</td>\n",
       "      <td>1</td>\n",
       "      <td>1</td>\n",
       "      <td>120</td>\n",
       "      <td>236</td>\n",
       "      <td>0</td>\n",
       "      <td>1</td>\n",
       "      <td>178</td>\n",
       "      <td>0</td>\n",
       "      <td>0.8</td>\n",
       "      <td>2</td>\n",
       "      <td>0</td>\n",
       "      <td>2</td>\n",
       "      <td>1</td>\n",
       "    </tr>\n",
       "    <tr>\n",
       "      <th>4</th>\n",
       "      <td>57</td>\n",
       "      <td>0</td>\n",
       "      <td>0</td>\n",
       "      <td>120</td>\n",
       "      <td>354</td>\n",
       "      <td>0</td>\n",
       "      <td>1</td>\n",
       "      <td>163</td>\n",
       "      <td>1</td>\n",
       "      <td>0.6</td>\n",
       "      <td>2</td>\n",
       "      <td>0</td>\n",
       "      <td>2</td>\n",
       "      <td>1</td>\n",
       "    </tr>\n",
       "  </tbody>\n",
       "</table>\n",
       "</div>"
      ],
      "text/plain": [
       "   age  sex  cp  trestbps  chol  fbs  ...  exang  oldpeak  slope  ca  thal  target\n",
       "0   63    1   3       145   233    1  ...      0      2.3      0   0     1       1\n",
       "1   37    1   2       130   250    0  ...      0      3.5      0   0     2       1\n",
       "2   41    0   1       130   204    0  ...      0      1.4      2   0     2       1\n",
       "3   56    1   1       120   236    0  ...      0      0.8      2   0     2       1\n",
       "4   57    0   0       120   354    0  ...      1      0.6      2   0     2       1\n",
       "\n",
       "[5 rows x 14 columns]"
      ]
     },
     "execution_count": 25,
     "metadata": {
      "tags": []
     },
     "output_type": "execute_result"
    }
   ],
   "source": [
    "df.head()"
   ]
  },
  {
   "cell_type": "markdown",
   "metadata": {
    "colab_type": "text",
    "id": "JXKvMf3GJ-3I"
   },
   "source": [
    "### Check for missing data\n",
    "\n",
    "no missing data"
   ]
  },
  {
   "cell_type": "code",
   "execution_count": 0,
   "metadata": {
    "colab": {
     "base_uri": "https://localhost:8080/",
     "height": 277
    },
    "colab_type": "code",
    "executionInfo": {
     "elapsed": 738,
     "status": "ok",
     "timestamp": 1576761819423,
     "user": {
      "displayName": "Mathieu Le Cam",
      "photoUrl": "https://lh3.googleusercontent.com/a-/AAuE7mDXnl10g9SEzzH0q92SA0b-_g35Q8gkVbq1d2ooErM=s64",
      "userId": "01912130085238494725"
     },
     "user_tz": 0
    },
    "id": "0yiM7n4VJ4fm",
    "outputId": "5585973c-f1fb-41c5-df32-b6bff34b903e"
   },
   "outputs": [
    {
     "data": {
      "text/plain": [
       "age         0\n",
       "sex         0\n",
       "cp          0\n",
       "trestbps    0\n",
       "chol        0\n",
       "fbs         0\n",
       "restecg     0\n",
       "thalach     0\n",
       "exang       0\n",
       "oldpeak     0\n",
       "slope       0\n",
       "ca          0\n",
       "thal        0\n",
       "target      0\n",
       "dtype: int64"
      ]
     },
     "execution_count": 26,
     "metadata": {
      "tags": []
     },
     "output_type": "execute_result"
    }
   ],
   "source": [
    "df.isnull().sum()"
   ]
  },
  {
   "cell_type": "markdown",
   "metadata": {
    "colab_type": "text",
    "id": "6AwQgfyqUDi8"
   },
   "source": [
    "### Check data type\n",
    "All attributes are integers or floats. The dataset can be used as is. No pre-processing is required"
   ]
  },
  {
   "cell_type": "code",
   "execution_count": 0,
   "metadata": {
    "colab": {
     "base_uri": "https://localhost:8080/",
     "height": 277
    },
    "colab_type": "code",
    "executionInfo": {
     "elapsed": 538,
     "status": "ok",
     "timestamp": 1576761821768,
     "user": {
      "displayName": "Mathieu Le Cam",
      "photoUrl": "https://lh3.googleusercontent.com/a-/AAuE7mDXnl10g9SEzzH0q92SA0b-_g35Q8gkVbq1d2ooErM=s64",
      "userId": "01912130085238494725"
     },
     "user_tz": 0
    },
    "id": "Of1Mru5kUHq6",
    "outputId": "ac629f27-edd3-4c7a-cea1-f66701ed1740"
   },
   "outputs": [
    {
     "data": {
      "text/plain": [
       "age           int64\n",
       "sex           int64\n",
       "cp            int64\n",
       "trestbps      int64\n",
       "chol          int64\n",
       "fbs           int64\n",
       "restecg       int64\n",
       "thalach       int64\n",
       "exang         int64\n",
       "oldpeak     float64\n",
       "slope         int64\n",
       "ca            int64\n",
       "thal          int64\n",
       "target        int64\n",
       "dtype: object"
      ]
     },
     "execution_count": 27,
     "metadata": {
      "tags": []
     },
     "output_type": "execute_result"
    }
   ],
   "source": [
    "df.dtypes"
   ]
  },
  {
   "cell_type": "markdown",
   "metadata": {
    "colab_type": "text",
    "id": "zH9uJ9Ofk2ZH"
   },
   "source": [
    "### Split the data into train and test\n",
    "\n",
    "Now split the dataset into a training set and a test set.\n",
    "\n",
    "We will use the test set in the final evaluation of our model."
   ]
  },
  {
   "cell_type": "code",
   "execution_count": 0,
   "metadata": {
    "colab": {},
    "colab_type": "code",
    "id": "o3MLErAak5Ph"
   },
   "outputs": [],
   "source": [
    "train_dataset = df.sample(frac=0.8,random_state=0)\n",
    "test_dataset = df.drop(train_dataset.index)"
   ]
  },
  {
   "cell_type": "markdown",
   "metadata": {
    "colab_type": "text",
    "id": "wlc4baghjyqd"
   },
   "source": [
    "### Inspect the data\n",
    "\n",
    "Have a quick look at the joint distribution of a few pairs of columns from the training set."
   ]
  },
  {
   "cell_type": "code",
   "execution_count": 0,
   "metadata": {
    "colab": {
     "base_uri": "https://localhost:8080/",
     "height": 356
    },
    "colab_type": "code",
    "executionInfo": {
     "elapsed": 2113,
     "status": "ok",
     "timestamp": 1576761827896,
     "user": {
      "displayName": "Mathieu Le Cam",
      "photoUrl": "https://lh3.googleusercontent.com/a-/AAuE7mDXnl10g9SEzzH0q92SA0b-_g35Q8gkVbq1d2ooErM=s64",
      "userId": "01912130085238494725"
     },
     "user_tz": 0
    },
    "id": "BLFEgecCj4Ig",
    "outputId": "0c1d4321-81c1-469e-bbe5-af27fd22a7a7"
   },
   "outputs": [
    {
     "data": {
      "image/png": "[encoded data removed]",
      "text/plain": [
       "<Figure size 1368x360 with 14 Axes>"
      ]
     },
     "metadata": {
      "tags": []
     },
     "output_type": "display_data"
    }
   ],
   "source": [
    "train_dataset.loc[:,train_dataset.columns != 'target'].hist(figsize=(19,5), layout=(2,7));"
   ]
  },
  {
   "cell_type": "markdown",
   "metadata": {
    "colab_type": "text",
    "id": "8GP8zY1Ilfh1"
   },
   "source": [
    "Also look at the overall statistics:"
   ]
  },
  {
   "cell_type": "code",
   "execution_count": 0,
   "metadata": {
    "colab": {
     "base_uri": "https://localhost:8080/",
     "height": 447
    },
    "colab_type": "code",
    "executionInfo": {
     "elapsed": 660,
     "status": "ok",
     "timestamp": 1576761828718,
     "user": {
      "displayName": "Mathieu Le Cam",
      "photoUrl": "https://lh3.googleusercontent.com/a-/AAuE7mDXnl10g9SEzzH0q92SA0b-_g35Q8gkVbq1d2ooErM=s64",
      "userId": "01912130085238494725"
     },
     "user_tz": 0
    },
    "id": "xCo4lAEJlgEO",
    "outputId": "bd18e310-5649-4edb-b014-4216143284d8"
   },
   "outputs": [
    {
     "data": {
      "text/html": [
       "<div>\n",
       "<style scoped>\n",
       "    .dataframe tbody tr th:only-of-type {\n",
       "        vertical-align: middle;\n",
       "    }\n",
       "\n",
       "    .dataframe tbody tr th {\n",
       "        vertical-align: top;\n",
       "    }\n",
       "\n",
       "    .dataframe thead th {\n",
       "        text-align: right;\n",
       "    }\n",
       "</style>\n",
       "<table border=\"1\" class=\"dataframe\">\n",
       "  <thead>\n",
       "    <tr style=\"text-align: right;\">\n",
       "      <th></th>\n",
       "      <th>count</th>\n",
       "      <th>mean</th>\n",
       "      <th>std</th>\n",
       "      <th>min</th>\n",
       "      <th>25%</th>\n",
       "      <th>50%</th>\n",
       "      <th>75%</th>\n",
       "      <th>max</th>\n",
       "    </tr>\n",
       "  </thead>\n",
       "  <tbody>\n",
       "    <tr>\n",
       "      <th>age</th>\n",
       "      <td>242.0</td>\n",
       "      <td>54.128099</td>\n",
       "      <td>8.904992</td>\n",
       "      <td>34.0</td>\n",
       "      <td>48.0</td>\n",
       "      <td>54.5</td>\n",
       "      <td>60.75</td>\n",
       "      <td>77.0</td>\n",
       "    </tr>\n",
       "    <tr>\n",
       "      <th>sex</th>\n",
       "      <td>242.0</td>\n",
       "      <td>0.685950</td>\n",
       "      <td>0.465098</td>\n",
       "      <td>0.0</td>\n",
       "      <td>0.0</td>\n",
       "      <td>1.0</td>\n",
       "      <td>1.00</td>\n",
       "      <td>1.0</td>\n",
       "    </tr>\n",
       "    <tr>\n",
       "      <th>cp</th>\n",
       "      <td>242.0</td>\n",
       "      <td>0.962810</td>\n",
       "      <td>1.031989</td>\n",
       "      <td>0.0</td>\n",
       "      <td>0.0</td>\n",
       "      <td>1.0</td>\n",
       "      <td>2.00</td>\n",
       "      <td>3.0</td>\n",
       "    </tr>\n",
       "    <tr>\n",
       "      <th>trestbps</th>\n",
       "      <td>242.0</td>\n",
       "      <td>131.396694</td>\n",
       "      <td>17.352331</td>\n",
       "      <td>94.0</td>\n",
       "      <td>120.0</td>\n",
       "      <td>130.0</td>\n",
       "      <td>140.00</td>\n",
       "      <td>200.0</td>\n",
       "    </tr>\n",
       "    <tr>\n",
       "      <th>chol</th>\n",
       "      <td>242.0</td>\n",
       "      <td>247.181818</td>\n",
       "      <td>51.235037</td>\n",
       "      <td>126.0</td>\n",
       "      <td>212.0</td>\n",
       "      <td>241.5</td>\n",
       "      <td>274.00</td>\n",
       "      <td>564.0</td>\n",
       "    </tr>\n",
       "    <tr>\n",
       "      <th>fbs</th>\n",
       "      <td>242.0</td>\n",
       "      <td>0.144628</td>\n",
       "      <td>0.352454</td>\n",
       "      <td>0.0</td>\n",
       "      <td>0.0</td>\n",
       "      <td>0.0</td>\n",
       "      <td>0.00</td>\n",
       "      <td>1.0</td>\n",
       "    </tr>\n",
       "    <tr>\n",
       "      <th>restecg</th>\n",
       "      <td>242.0</td>\n",
       "      <td>0.528926</td>\n",
       "      <td>0.516522</td>\n",
       "      <td>0.0</td>\n",
       "      <td>0.0</td>\n",
       "      <td>1.0</td>\n",
       "      <td>1.00</td>\n",
       "      <td>2.0</td>\n",
       "    </tr>\n",
       "    <tr>\n",
       "      <th>thalach</th>\n",
       "      <td>242.0</td>\n",
       "      <td>149.797521</td>\n",
       "      <td>22.935873</td>\n",
       "      <td>71.0</td>\n",
       "      <td>134.5</td>\n",
       "      <td>153.0</td>\n",
       "      <td>167.75</td>\n",
       "      <td>195.0</td>\n",
       "    </tr>\n",
       "    <tr>\n",
       "      <th>exang</th>\n",
       "      <td>242.0</td>\n",
       "      <td>0.330579</td>\n",
       "      <td>0.471396</td>\n",
       "      <td>0.0</td>\n",
       "      <td>0.0</td>\n",
       "      <td>0.0</td>\n",
       "      <td>1.00</td>\n",
       "      <td>1.0</td>\n",
       "    </tr>\n",
       "    <tr>\n",
       "      <th>oldpeak</th>\n",
       "      <td>242.0</td>\n",
       "      <td>0.991322</td>\n",
       "      <td>1.162148</td>\n",
       "      <td>0.0</td>\n",
       "      <td>0.0</td>\n",
       "      <td>0.6</td>\n",
       "      <td>1.60</td>\n",
       "      <td>6.2</td>\n",
       "    </tr>\n",
       "    <tr>\n",
       "      <th>slope</th>\n",
       "      <td>242.0</td>\n",
       "      <td>1.413223</td>\n",
       "      <td>0.606595</td>\n",
       "      <td>0.0</td>\n",
       "      <td>1.0</td>\n",
       "      <td>1.0</td>\n",
       "      <td>2.00</td>\n",
       "      <td>2.0</td>\n",
       "    </tr>\n",
       "    <tr>\n",
       "      <th>ca</th>\n",
       "      <td>242.0</td>\n",
       "      <td>0.685950</td>\n",
       "      <td>0.985649</td>\n",
       "      <td>0.0</td>\n",
       "      <td>0.0</td>\n",
       "      <td>0.0</td>\n",
       "      <td>1.00</td>\n",
       "      <td>4.0</td>\n",
       "    </tr>\n",
       "    <tr>\n",
       "      <th>thal</th>\n",
       "      <td>242.0</td>\n",
       "      <td>2.322314</td>\n",
       "      <td>0.614012</td>\n",
       "      <td>0.0</td>\n",
       "      <td>2.0</td>\n",
       "      <td>2.0</td>\n",
       "      <td>3.00</td>\n",
       "      <td>3.0</td>\n",
       "    </tr>\n",
       "  </tbody>\n",
       "</table>\n",
       "</div>"
      ],
      "text/plain": [
       "          count        mean        std    min    25%    50%     75%    max\n",
       "age       242.0   54.128099   8.904992   34.0   48.0   54.5   60.75   77.0\n",
       "sex       242.0    0.685950   0.465098    0.0    0.0    1.0    1.00    1.0\n",
       "cp        242.0    0.962810   1.031989    0.0    0.0    1.0    2.00    3.0\n",
       "trestbps  242.0  131.396694  17.352331   94.0  120.0  130.0  140.00  200.0\n",
       "chol      242.0  247.181818  51.235037  126.0  212.0  241.5  274.00  564.0\n",
       "fbs       242.0    0.144628   0.352454    0.0    0.0    0.0    0.00    1.0\n",
       "restecg   242.0    0.528926   0.516522    0.0    0.0    1.0    1.00    2.0\n",
       "thalach   242.0  149.797521  22.935873   71.0  134.5  153.0  167.75  195.0\n",
       "exang     242.0    0.330579   0.471396    0.0    0.0    0.0    1.00    1.0\n",
       "oldpeak   242.0    0.991322   1.162148    0.0    0.0    0.6    1.60    6.2\n",
       "slope     242.0    1.413223   0.606595    0.0    1.0    1.0    2.00    2.0\n",
       "ca        242.0    0.685950   0.985649    0.0    0.0    0.0    1.00    4.0\n",
       "thal      242.0    2.322314   0.614012    0.0    2.0    2.0    3.00    3.0"
      ]
     },
     "execution_count": 30,
     "metadata": {
      "tags": []
     },
     "output_type": "execute_result"
    }
   ],
   "source": [
    "train_stats = train_dataset.describe()\n",
    "train_stats.pop(\"target\")\n",
    "train_stats = train_stats.transpose()\n",
    "train_stats"
   ]
  },
  {
   "cell_type": "code",
   "execution_count": 0,
   "metadata": {
    "colab": {},
    "colab_type": "code",
    "id": "RCFgQES6u_XE"
   },
   "outputs": [],
   "source": [
    "def quick_plot(x,y,z):\n",
    "  groups=train_dataset.groupby(by=z)\n",
    "  fig, ax = plt.subplots()\n",
    "  for name, group in groups:\n",
    "      ax.plot(group[x], group[y], marker='.', linestyle='', ms=12, label=name)\n",
    "  ax.legend()\n",
    "  ax.grid()\n",
    "  plt.xlabel(x);\n",
    "  plt.ylabel(y);\n",
    "def plot_hist(var):\n",
    "  plt.figure()\n",
    "  train_dataset.groupby(by='target')[var].hist(alpha=.5);\n",
    "  plt.legend(['heart disease','healthy']);\n",
    "  plt.xlabel(var.capitalize());\n",
    "  plt.ylabel('Number of occurences');"
   ]
  },
  {
   "cell_type": "code",
   "execution_count": 0,
   "metadata": {
    "colab": {
     "base_uri": "https://localhost:8080/",
     "height": 821
    },
    "colab_type": "code",
    "executionInfo": {
     "elapsed": 1094,
     "status": "ok",
     "timestamp": 1576773727265,
     "user": {
      "displayName": "Mathieu Le Cam",
      "photoUrl": "https://lh3.googleusercontent.com/a-/AAuE7mDXnl10g9SEzzH0q92SA0b-_g35Q8gkVbq1d2ooErM=s64",
      "userId": "01912130085238494725"
     },
     "user_tz": 0
    },
    "id": "X8Zxh55nywzO",
    "outputId": "81727b86-3513-44dc-844a-2dd1c56ea7d3"
   },
   "outputs": [
    {
     "data": {
      "image/png": "[encoded data removed]",
      "text/plain": [
       "<Figure size 432x288 with 1 Axes>"
      ]
     },
     "metadata": {
      "tags": []
     },
     "output_type": "display_data"
    },
    {
     "data": {
      "image/png": "[encoded data removed]",
      "text/plain": [
       "<Figure size 432x288 with 1 Axes>"
      ]
     },
     "metadata": {
      "tags": []
     },
     "output_type": "display_data"
    },
    {
     "data": {
      "image/png": "[encoded data removed]",
      "text/plain": [
       "<Figure size 432x288 with 1 Axes>"
      ]
     },
     "metadata": {
      "tags": []
     },
     "output_type": "display_data"
    }
   ],
   "source": [
    "plot_hist('age')\n",
    "plot_hist('thalach')\n",
    "plot_hist('oldpeak')"
   ]
  },
  {
   "cell_type": "markdown",
   "metadata": {
    "colab_type": "text",
    "id": "kXvNsIVtlut4"
   },
   "source": [
    "### Split features from labels\n",
    "\n",
    "Separate the target value, or \"label\", from the features. This label is the value that you will train the model to predict."
   ]
  },
  {
   "cell_type": "code",
   "execution_count": 0,
   "metadata": {
    "colab": {},
    "colab_type": "code",
    "id": "K0Sb9ZfolxLc"
   },
   "outputs": [],
   "source": [
    "train_labels = train_dataset.pop('target')\n",
    "test_labels = test_dataset.pop('target')"
   ]
  },
  {
   "cell_type": "markdown",
   "metadata": {
    "colab_type": "text",
    "id": "MIQu03iDkjbE"
   },
   "source": [
    "### Normalize the data"
   ]
  },
  {
   "cell_type": "code",
   "execution_count": 0,
   "metadata": {
    "colab": {},
    "colab_type": "code",
    "id": "H8ZUHzg-plGs"
   },
   "outputs": [],
   "source": [
    "def norm(x):\n",
    "  return (x - train_stats['mean']) / train_stats['std']\n",
    "normed_train_data = norm(train_dataset)\n",
    "normed_test_data = norm(test_dataset)"
   ]
  },
  {
   "cell_type": "markdown",
   "metadata": {
    "colab_type": "text",
    "id": "0yksMRustrqV"
   },
   "source": [
    "# Forecasting model for classification problem"
   ]
  },
  {
   "cell_type": "markdown",
   "metadata": {
    "colab_type": "text",
    "id": "yhj_ksvftq-q"
   },
   "source": [
    "### Build the model\n",
    "\n",
    "Let's build our model. We will compare the accuracy on the testing set of different classifiers from sckit-learn library."
   ]
  },
  {
   "cell_type": "code",
   "execution_count": 0,
   "metadata": {
    "colab": {},
    "colab_type": "code",
    "id": "shU8j6en4N3d"
   },
   "outputs": [],
   "source": [
    "from sklearn.feature_selection import SelectKBest\n",
    "from sklearn.feature_selection import chi2\n",
    "from sklearn.metrics import accuracy_score\n",
    "from sklearn.neural_network import MLPClassifier\n",
    "from sklearn.neighbors import KNeighborsClassifier\n",
    "from sklearn.svm import SVC\n",
    "from sklearn.gaussian_process import GaussianProcessClassifier\n",
    "from sklearn.gaussian_process.kernels import RBF\n",
    "from sklearn.tree import DecisionTreeClassifier\n",
    "from sklearn.ensemble import RandomForestClassifier, AdaBoostClassifier\n",
    "from sklearn.naive_bayes import GaussianNB\n",
    "from sklearn.discriminant_analysis import QuadraticDiscriminantAnalysis"
   ]
  },
  {
   "cell_type": "markdown",
   "metadata": {
    "colab_type": "text",
    "id": "52esfwFoJi6J"
   },
   "source": [
    "The classifiers used and compared are presented below."
   ]
  },
  {
   "cell_type": "code",
   "execution_count": 0,
   "metadata": {
    "colab": {},
    "colab_type": "code",
    "id": "pjjm4Qww4_XU"
   },
   "outputs": [],
   "source": [
    "names = [\"Nearest Neighbors\", \"Linear SVM\", \"RBF SVM\", \"Gaussian Process\",\n",
    "         \"Decision Tree\", \"Random Forest\", \"Neural Net\", \"AdaBoost\",\n",
    "         \"Naive Bayes\", \"QDA\"]\n",
    "classifiers = [\n",
    "    KNeighborsClassifier(3),\n",
    "    SVC(kernel=\"linear\", C=0.025),\n",
    "    SVC(gamma=2, C=1),\n",
    "    GaussianProcessClassifier(1.0 * RBF(1.0)),\n",
    "    DecisionTreeClassifier(max_depth=5),\n",
    "    RandomForestClassifier(max_depth=5, n_estimators=10, max_features=1),\n",
    "    MLPClassifier(alpha=1, max_iter=1000),\n",
    "    AdaBoostClassifier(),\n",
    "    GaussianNB(),\n",
    "    QuadraticDiscriminantAnalysis()]"
   ]
  },
  {
   "cell_type": "markdown",
   "metadata": {
    "colab_type": "text",
    "id": "j6cvk3cMJqeV"
   },
   "source": [
    "## Comparison of classifiers\n",
    "The results in terms of accuracy on the testing set are presented below. The three best performing classifiers are the Linear SVM, Gaussian process and Neural net with an accuracy of 85.2%."
   ]
  },
  {
   "cell_type": "code",
   "execution_count": 0,
   "metadata": {
    "colab": {
     "base_uri": "https://localhost:8080/",
     "height": 208
    },
    "colab_type": "code",
    "executionInfo": {
     "elapsed": 5145,
     "status": "ok",
     "timestamp": 1576771431775,
     "user": {
      "displayName": "Mathieu Le Cam",
      "photoUrl": "https://lh3.googleusercontent.com/a-/AAuE7mDXnl10g9SEzzH0q92SA0b-_g35Q8gkVbq1d2ooErM=s64",
      "userId": "01912130085238494725"
     },
     "user_tz": 0
    },
    "id": "xufplKIY6RFS",
    "outputId": "67897d59-f0d4-443d-8235-caa9679e3321"
   },
   "outputs": [
    {
     "data": {
      "text/plain": [
       "Neural Net           0.852459\n",
       "Gaussian Process     0.852459\n",
       "Linear SVM           0.852459\n",
       "Naive Bayes          0.819672\n",
       "AdaBoost             0.819672\n",
       "Random Forest        0.819672\n",
       "Nearest Neighbors    0.819672\n",
       "Decision Tree        0.770492\n",
       "QDA                  0.754098\n",
       "RBF SVM               0.52459\n",
       "Name: score, dtype: object"
      ]
     },
     "execution_count": 88,
     "metadata": {
      "tags": []
     },
     "output_type": "execute_result"
    }
   ],
   "source": [
    "results=pd.DataFrame(columns=names,index=['score','main_attr','train_score'])\n",
    "for name, clf in zip(names, classifiers):\n",
    "  clf.fit(normed_train_data, train_labels)\n",
    "  results.loc['train_score',name]=clf.score(normed_train_data, train_labels)\n",
    "  results.loc['score',name]=clf.score(normed_test_data, test_labels)\n",
    "  if hasattr(clf, \"feature_importances_\"):\n",
    "    results.loc['main_attr',name]=normed_train_data.columns[clf.feature_importances_>0]\n",
    "  else:\n",
    "    results.loc['main_attr',name]=np.nan\n",
    "#results.transpose().sort_values(by='score',ascending=False)\n",
    "results.loc['score',:].sort_values(ascending=False)"
   ]
  },
  {
   "cell_type": "code",
   "execution_count": 0,
   "metadata": {
    "colab": {
     "base_uri": "https://localhost:8080/",
     "height": 287
    },
    "colab_type": "code",
    "executionInfo": {
     "elapsed": 728,
     "status": "ok",
     "timestamp": 1576772105189,
     "user": {
      "displayName": "Mathieu Le Cam",
      "photoUrl": "https://lh3.googleusercontent.com/a-/AAuE7mDXnl10g9SEzzH0q92SA0b-_g35Q8gkVbq1d2ooErM=s64",
      "userId": "01912130085238494725"
     },
     "user_tz": 0
    },
    "id": "57wnMAlx5r6W",
    "outputId": "33b2c2fa-f85b-49b1-9457-200b1e54dcbd"
   },
   "outputs": [
    {
     "data": {
      "image/png": "[encoded data removed]",
      "text/plain": [
       "<Figure size 432x288 with 1 Axes>"
      ]
     },
     "metadata": {
      "tags": []
     },
     "output_type": "display_data"
    }
   ],
   "source": [
    "results.loc[['score','train_score'],:].transpose().sort_values(by='score').plot.barh();\n",
    "plt.xlabel('Accuracy');\n",
    "plt.grid();\n",
    "plt.legend(['Test','Train'],loc='upper left');"
   ]
  },
  {
   "cell_type": "markdown",
   "metadata": {
    "colab_type": "text",
    "id": "192FYe7_YSm7"
   },
   "source": [
    "## Main features\n",
    "Identification and Analysis of the most important features. "
   ]
  },
  {
   "cell_type": "code",
   "execution_count": 0,
   "metadata": {
    "colab": {
     "base_uri": "https://localhost:8080/",
     "height": 233
    },
    "colab_type": "code",
    "executionInfo": {
     "elapsed": 15928,
     "status": "ok",
     "timestamp": 1576761737970,
     "user": {
      "displayName": "Mathieu Le Cam",
      "photoUrl": "https://lh3.googleusercontent.com/a-/AAuE7mDXnl10g9SEzzH0q92SA0b-_g35Q8gkVbq1d2ooErM=s64",
      "userId": "01912130085238494725"
     },
     "user_tz": 0
    },
    "id": "sYJoVXBHDrhX",
    "outputId": "7eaa4d36-2068-489b-d2b4-e121ffa13320"
   },
   "outputs": [
    {
     "data": {
      "text/html": [
       "<div>\n",
       "<style scoped>\n",
       "    .dataframe tbody tr th:only-of-type {\n",
       "        vertical-align: middle;\n",
       "    }\n",
       "\n",
       "    .dataframe tbody tr th {\n",
       "        vertical-align: top;\n",
       "    }\n",
       "\n",
       "    .dataframe thead th {\n",
       "        text-align: right;\n",
       "    }\n",
       "</style>\n",
       "<table border=\"1\" class=\"dataframe\">\n",
       "  <thead>\n",
       "    <tr style=\"text-align: right;\">\n",
       "      <th></th>\n",
       "      <th>coef</th>\n",
       "    </tr>\n",
       "  </thead>\n",
       "  <tbody>\n",
       "    <tr>\n",
       "      <th>oldpeak</th>\n",
       "      <td>0.16</td>\n",
       "    </tr>\n",
       "    <tr>\n",
       "      <th>age</th>\n",
       "      <td>0.14</td>\n",
       "    </tr>\n",
       "    <tr>\n",
       "      <th>chol</th>\n",
       "      <td>0.14</td>\n",
       "    </tr>\n",
       "    <tr>\n",
       "      <th>trestbps</th>\n",
       "      <td>0.12</td>\n",
       "    </tr>\n",
       "    <tr>\n",
       "      <th>thalach</th>\n",
       "      <td>0.10</td>\n",
       "    </tr>\n",
       "    <tr>\n",
       "      <th>ca</th>\n",
       "      <td>0.10</td>\n",
       "    </tr>\n",
       "  </tbody>\n",
       "</table>\n",
       "</div>"
      ],
      "text/plain": [
       "          coef\n",
       "oldpeak   0.16\n",
       "age       0.14\n",
       "chol      0.14\n",
       "trestbps  0.12\n",
       "thalach   0.10\n",
       "ca        0.10"
      ]
     },
     "execution_count": 20,
     "metadata": {
      "tags": []
     },
     "output_type": "execute_result"
    }
   ],
   "source": [
    "ft_imp=pd.DataFrame(columns=normed_test_data.columns,index=['coef'])\n",
    "clf=AdaBoostClassifier()\n",
    "clf.fit(normed_train_data, train_labels)\n",
    "for i,j in zip(normed_test_data.columns,clf.feature_importances_):\n",
    "  ft_imp[i]=j\n",
    "ft_imp.transpose().sort_values(by='coef',ascending=False).head(6)"
   ]
  },
  {
   "cell_type": "code",
   "execution_count": 0,
   "metadata": {
    "colab": {
     "base_uri": "https://localhost:8080/",
     "height": 1000
    },
    "colab_type": "code",
    "executionInfo": {
     "elapsed": 1625,
     "status": "ok",
     "timestamp": 1576762541109,
     "user": {
      "displayName": "Mathieu Le Cam",
      "photoUrl": "https://lh3.googleusercontent.com/a-/AAuE7mDXnl10g9SEzzH0q92SA0b-_g35Q8gkVbq1d2ooErM=s64",
      "userId": "01912130085238494725"
     },
     "user_tz": 0
    },
    "id": "hPdOWzg3IPge",
    "outputId": "743659ec-308d-4bbc-e20e-1aace5c668c2"
   },
   "outputs": [
    {
     "data": {
      "image/png": "[encoded data removed]",
      "text/plain": [
       "<Figure size 432x288 with 1 Axes>"
      ]
     },
     "metadata": {
      "tags": []
     },
     "output_type": "display_data"
    },
    {
     "data": {
      "image/png": "[encoded data removed]",
      "text/plain": [
       "<Figure size 432x288 with 1 Axes>"
      ]
     },
     "metadata": {
      "tags": []
     },
     "output_type": "display_data"
    },
    {
     "data": {
      "image/png": "[encoded data removed]",
      "text/plain": [
       "<Figure size 432x288 with 1 Axes>"
      ]
     },
     "metadata": {
      "tags": []
     },
     "output_type": "display_data"
    },
    {
     "data": {
      "image/png": "[encoded data removed]",
      "text/plain": [
       "<Figure size 432x288 with 1 Axes>"
      ]
     },
     "metadata": {
      "tags": []
     },
     "output_type": "display_data"
    },
    {
     "data": {
      "image/png": "[encoded data removed]",
      "text/plain": [
       "<Figure size 432x288 with 1 Axes>"
      ]
     },
     "metadata": {
      "tags": []
     },
     "output_type": "display_data"
    },
    {
     "data": {
      "image/png": "[encoded data removed]",
      "text/plain": [
       "<Figure size 432x288 with 1 Axes>"
      ]
     },
     "metadata": {
      "tags": []
     },
     "output_type": "display_data"
    }
   ],
   "source": [
    "plot_hist('oldpeak')\n",
    "plot_hist('age')\n",
    "plot_hist('chol')\n",
    "plot_hist('trestbps')\n",
    "plot_hist('thalach')\n",
    "plot_hist('ca')"
   ]
  },
  {
   "cell_type": "code",
   "execution_count": 0,
   "metadata": {
    "colab": {},
    "colab_type": "code",
    "id": "RBqDyeyrJD8W"
   },
   "outputs": [],
   "source": [
    "def sh_boxplot(ft,trange):\n",
    "  plt.figure(figsize=(12,9))\n",
    "  plt.subplot(2,1,1)\n",
    "  train_dataset.loc[train_dataset.target==0,ft].boxplot(vert=False,showmeans=True);\n",
    "  plt.xticks(trange)\n",
    "  plt.title('Healthy');\n",
    "  plt.subplot(2,1,2)\n",
    "  train_dataset.loc[train_dataset.target==1,ft].boxplot(vert=False,showmeans=True);\n",
    "  plt.xticks(trange)\n",
    "  plt.title('Heart disease');"
   ]
  },
  {
   "cell_type": "code",
   "execution_count": 0,
   "metadata": {
    "colab": {
     "base_uri": "https://localhost:8080/",
     "height": 1000
    },
    "colab_type": "code",
    "executionInfo": {
     "elapsed": 1108,
     "status": "ok",
     "timestamp": 1576772557665,
     "user": {
      "displayName": "Mathieu Le Cam",
      "photoUrl": "https://lh3.googleusercontent.com/a-/AAuE7mDXnl10g9SEzzH0q92SA0b-_g35Q8gkVbq1d2ooErM=s64",
      "userId": "01912130085238494725"
     },
     "user_tz": 0
    },
    "id": "2v9OuL0PblAZ",
    "outputId": "5e4ebd03-c6e0-4830-e244-e883a1802ede"
   },
   "outputs": [
    {
     "data": {
      "image/png": "[encoded data removed]",
      "text/plain": [
       "<Figure size 864x648 with 2 Axes>"
      ]
     },
     "metadata": {
      "tags": []
     },
     "output_type": "display_data"
    },
    {
     "data": {
      "image/png": "[encoded data removed]",
      "text/plain": [
       "<Figure size 864x648 with 2 Axes>"
      ]
     },
     "metadata": {
      "tags": []
     },
     "output_type": "display_data"
    }
   ],
   "source": [
    "sh_boxplot(['age','trestbps','thalach'],range(0,230,25))\n",
    "sh_boxplot(['ca','oldpeak'],range(0,8))"
   ]
  },
  {
   "cell_type": "code",
   "execution_count": 0,
   "metadata": {
    "colab": {
     "base_uri": "https://localhost:8080/",
     "height": 281
    },
    "colab_type": "code",
    "executionInfo": {
     "elapsed": 860,
     "status": "ok",
     "timestamp": 1576768359518,
     "user": {
      "displayName": "Mathieu Le Cam",
      "photoUrl": "https://lh3.googleusercontent.com/a-/AAuE7mDXnl10g9SEzzH0q92SA0b-_g35Q8gkVbq1d2ooErM=s64",
      "userId": "01912130085238494725"
     },
     "user_tz": 0
    },
    "id": "A25LqzRmeO0o",
    "outputId": "3374e3a5-dc7f-4fcb-afc0-5dd05399f181"
   },
   "outputs": [
    {
     "data": {
      "image/png": "[encoded data removed]",
      "text/plain": [
       "<Figure size 432x288 with 1 Axes>"
      ]
     },
     "metadata": {
      "tags": []
     },
     "output_type": "display_data"
    }
   ],
   "source": [
    "quick_plot('age','thalach','target')"
   ]
  }
 ],
 "metadata": {
  "accelerator": "TPU",
  "colab": {
   "collapsed_sections": [
    "l2TsJfHNjx7k",
    "eOVfuL32LyV4",
    "VB7D5sVqL6fM"
   ],
   "machine_shape": "hm",
   "name": "heart_disease_lecamm.ipynb",
   "provenance": [
    {
     "file_id": "1is2YqE4JSLom8sRoGieP_n80iezdfzxM",
     "timestamp": 1576712494268
    }
   ],
   "toc_visible": true
  },
  "kernelspec": {
   "display_name": "Python 3",
   "language": "python",
   "name": "python3"
  },
  "language_info": {
   "codemirror_mode": {
    "name": "ipython",
    "version": 3
   },
   "file_extension": ".py",
   "mimetype": "text/x-python",
   "name": "python",
   "nbconvert_exporter": "python",
   "pygments_lexer": "ipython3",
   "version": "3.7.7"
  }
 },
 "nbformat": 4,
 "nbformat_minor": 1
}
